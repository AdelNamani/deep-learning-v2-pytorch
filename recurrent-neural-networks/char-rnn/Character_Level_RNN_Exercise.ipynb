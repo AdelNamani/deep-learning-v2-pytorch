{
  "nbformat": 4,
  "nbformat_minor": 0,
  "metadata": {
    "kernelspec": {
      "display_name": "Python [default]",
      "language": "python",
      "name": "python3"
    },
    "language_info": {
      "codemirror_mode": {
        "name": "ipython",
        "version": 3
      },
      "file_extension": ".py",
      "mimetype": "text/x-python",
      "name": "python",
      "nbconvert_exporter": "python",
      "pygments_lexer": "ipython3",
      "version": "3.6.4"
    },
    "colab": {
      "name": "Character_Level_RNN_Exercise.ipynb",
      "provenance": [],
      "toc_visible": true
    },
    "accelerator": "GPU"
  },
  "cells": [
    {
      "cell_type": "markdown",
      "metadata": {
        "id": "2Y5P9V2hg_Cb",
        "colab_type": "text"
      },
      "source": [
        "# Character-Level LSTM in PyTorch\n",
        "\n",
        "In this notebook, I'll construct a character-level LSTM with PyTorch. The network will train character by character on some text, then generate new text character by character. As an example, I will train on Anna Karenina. **This model will be able to generate new text based on the text from the book!**\n",
        "\n",
        "This network is based off of Andrej Karpathy's [post on RNNs](http://karpathy.github.io/2015/05/21/rnn-effectiveness/) and [implementation in Torch](https://github.com/karpathy/char-rnn). Below is the general architecture of the character-wise RNN.\n",
        "\n",
        "<img src=\"https://github.com/AdelNamani/deep-learning-v2-pytorch/blob/master/recurrent-neural-networks/char-rnn/assets/charseq.jpeg?raw=1\" width=\"500\">"
      ]
    },
    {
      "cell_type": "markdown",
      "metadata": {
        "id": "GkTDe16Gg_Cf",
        "colab_type": "text"
      },
      "source": [
        "First let's load in our required resources for data loading and model creation."
      ]
    },
    {
      "cell_type": "code",
      "metadata": {
        "id": "Xv1qZ6BAg_Cg",
        "colab_type": "code",
        "colab": {}
      },
      "source": [
        "import numpy as np\n",
        "import torch\n",
        "from torch import nn\n",
        "import torch.nn.functional as F"
      ],
      "execution_count": 1,
      "outputs": []
    },
    {
      "cell_type": "markdown",
      "metadata": {
        "id": "V5wM0jN9g_Cl",
        "colab_type": "text"
      },
      "source": [
        "## Load in Data\n",
        "\n",
        "Then, we'll load the Anna Karenina text file and convert it into integers for our network to use. "
      ]
    },
    {
      "cell_type": "code",
      "metadata": {
        "id": "INlgAyWNg_Cm",
        "colab_type": "code",
        "colab": {}
      },
      "source": [
        "# open text file and read in data as `text`\n",
        "with open('data/anna.txt', 'r') as f:\n",
        "    text = f.read()"
      ],
      "execution_count": 2,
      "outputs": []
    },
    {
      "cell_type": "markdown",
      "metadata": {
        "id": "HKcq5J1Eg_Cq",
        "colab_type": "text"
      },
      "source": [
        "Let's check out the first 100 characters, make sure everything is peachy. According to the [American Book Review](http://americanbookreview.org/100bestlines.asp), this is the 6th best first line of a book ever."
      ]
    },
    {
      "cell_type": "code",
      "metadata": {
        "id": "VNDyb-1Pg_Cr",
        "colab_type": "code",
        "colab": {
          "base_uri": "https://localhost:8080/",
          "height": 35
        },
        "outputId": "902dfcb5-186b-4f90-faac-ec43295a5b3d"
      },
      "source": [
        "text[:100]"
      ],
      "execution_count": 3,
      "outputs": [
        {
          "output_type": "execute_result",
          "data": {
            "application/vnd.google.colaboratory.intrinsic+json": {
              "type": "string"
            },
            "text/plain": [
              "'Chapter 1\\n\\n\\nHappy families are all alike; every unhappy family is unhappy in its own\\nway.\\n\\nEverythin'"
            ]
          },
          "metadata": {
            "tags": []
          },
          "execution_count": 3
        }
      ]
    },
    {
      "cell_type": "markdown",
      "metadata": {
        "id": "oRMqsi7Wg_Cv",
        "colab_type": "text"
      },
      "source": [
        "### Tokenization\n",
        "\n",
        "In the cells, below, I'm creating a couple **dictionaries** to convert the characters to and from integers. Encoding the characters as integers makes it easier to use as input in the network."
      ]
    },
    {
      "cell_type": "code",
      "metadata": {
        "id": "LZcWRLcgg_Cv",
        "colab_type": "code",
        "colab": {}
      },
      "source": [
        "# encode the text and map each character to an integer and vice versa\n",
        "\n",
        "# we create two dictionaries:\n",
        "# 1. int2char, which maps integers to characters\n",
        "# 2. char2int, which maps characters to unique integers\n",
        "chars = tuple(set(text))\n",
        "int2char = dict(enumerate(chars))\n",
        "char2int = {ch: ii for ii, ch in int2char.items()}\n",
        "\n",
        "# encode the text\n",
        "encoded = np.array([char2int[ch] for ch in text])"
      ],
      "execution_count": 4,
      "outputs": []
    },
    {
      "cell_type": "markdown",
      "metadata": {
        "id": "yLanYcDEg_Cz",
        "colab_type": "text"
      },
      "source": [
        "And we can see those same characters from above, encoded as integers."
      ]
    },
    {
      "cell_type": "code",
      "metadata": {
        "id": "so5Hl4gqg_C0",
        "colab_type": "code",
        "colab": {
          "base_uri": "https://localhost:8080/",
          "height": 122
        },
        "outputId": "623e756b-23ea-4586-da98-9927731e432c"
      },
      "source": [
        "encoded[:100]"
      ],
      "execution_count": 5,
      "outputs": [
        {
          "output_type": "execute_result",
          "data": {
            "text/plain": [
              "array([15, 59, 73, 67, 80,  2, 18, 46, 22, 61, 61, 61, 37, 73, 67, 67, 68,\n",
              "       46,  5, 73, 75, 40, 25, 40,  2,  6, 46, 73, 18,  2, 46, 73, 25, 25,\n",
              "       46, 73, 25, 40, 32,  2, 21, 46,  2, 12,  2, 18, 68, 46, 53, 14, 59,\n",
              "       73, 67, 67, 68, 46,  5, 73, 75, 40, 25, 68, 46, 40,  6, 46, 53, 14,\n",
              "       59, 73, 67, 67, 68, 46, 40, 14, 46, 40, 80,  6, 46, 10, 28, 14, 61,\n",
              "       28, 73, 68, 69, 61, 61, 76, 12,  2, 18, 68, 80, 59, 40, 14])"
            ]
          },
          "metadata": {
            "tags": []
          },
          "execution_count": 5
        }
      ]
    },
    {
      "cell_type": "markdown",
      "metadata": {
        "id": "kPltydvMg_C8",
        "colab_type": "text"
      },
      "source": [
        "## Pre-processing the data\n",
        "\n",
        "As you can see in our char-RNN image above, our LSTM expects an input that is **one-hot encoded** meaning that each character is converted into an integer (via our created dictionary) and *then* converted into a column vector where only it's corresponding integer index will have the value of 1 and the rest of the vector will be filled with 0's. Since we're one-hot encoding the data, let's make a function to do that!\n"
      ]
    },
    {
      "cell_type": "code",
      "metadata": {
        "id": "dkNCLIIsg_C8",
        "colab_type": "code",
        "colab": {}
      },
      "source": [
        "def one_hot_encode(arr, n_labels):\n",
        "    \n",
        "    # Initialize the the encoded array\n",
        "    one_hot = np.zeros((arr.size, n_labels), dtype=np.float32)\n",
        "    \n",
        "    # Fill the appropriate elements with ones\n",
        "    one_hot[np.arange(one_hot.shape[0]), arr.flatten()] = 1.\n",
        "    \n",
        "    # Finally reshape it to get back to the original array\n",
        "    one_hot = one_hot.reshape((*arr.shape, n_labels))\n",
        "    \n",
        "    return one_hot"
      ],
      "execution_count": 6,
      "outputs": []
    },
    {
      "cell_type": "code",
      "metadata": {
        "id": "r-Zktlzeg_DA",
        "colab_type": "code",
        "colab": {
          "base_uri": "https://localhost:8080/",
          "height": 70
        },
        "outputId": "c880b70b-19f3-4552-865a-c5376316fd44"
      },
      "source": [
        "# check that the function works as expected\n",
        "test_seq = np.array([[3, 5, 1]])\n",
        "one_hot = one_hot_encode(test_seq, 8)\n",
        "\n",
        "print(one_hot)"
      ],
      "execution_count": 9,
      "outputs": [
        {
          "output_type": "stream",
          "text": [
            "[[[0. 0. 0. 1. 0. 0. 0. 0.]\n",
            "  [0. 0. 0. 0. 0. 1. 0. 0.]\n",
            "  [0. 1. 0. 0. 0. 0. 0. 0.]]]\n"
          ],
          "name": "stdout"
        }
      ]
    },
    {
      "cell_type": "markdown",
      "metadata": {
        "id": "9GNrpY3ng_DE",
        "colab_type": "text"
      },
      "source": [
        "## Making training mini-batches\n",
        "\n",
        "\n",
        "To train on this data, we also want to create mini-batches for training. Remember that we want our batches to be multiple sequences of some desired number of sequence steps. Considering a simple example, our batches would look like this:\n",
        "\n",
        "<img src=\"https://github.com/AdelNamani/deep-learning-v2-pytorch/blob/master/recurrent-neural-networks/char-rnn/assets/sequence_batching@1x.png?raw=1\" width=500px>\n",
        "\n",
        "\n",
        "<br>\n",
        "\n",
        "In this example, we'll take the encoded characters (passed in as the `arr` parameter) and split them into multiple sequences, given by `batch_size`. Each of our sequences will be `seq_length` long.\n",
        "\n",
        "### Creating Batches\n",
        "\n",
        "**1. The first thing we need to do is discard some of the text so we only have completely full mini-batches. **\n",
        "\n",
        "Each batch contains $N \\times M$ characters, where $N$ is the batch size (the number of sequences in a batch) and $M$ is the seq_length or number of time steps in a sequence. Then, to get the total number of batches, $K$, that we can make from the array `arr`, you divide the length of `arr` by the number of characters per batch. Once you know the number of batches, you can get the total number of characters to keep from `arr`, $N * M * K$.\n",
        "\n",
        "**2. After that, we need to split `arr` into $N$ batches. ** \n",
        "\n",
        "You can do this using `arr.reshape(size)` where `size` is a tuple containing the dimensions sizes of the reshaped array. We know we want $N$ sequences in a batch, so let's make that the size of the first dimension. For the second dimension, you can use `-1` as a placeholder in the size, it'll fill up the array with the appropriate data for you. After this, you should have an array that is $N \\times (M * K)$.\n",
        "\n",
        "**3. Now that we have this array, we can iterate through it to get our mini-batches. **\n",
        "\n",
        "The idea is each batch is a $N \\times M$ window on the $N \\times (M * K)$ array. For each subsequent batch, the window moves over by `seq_length`. We also want to create both the input and target arrays. Remember that the targets are just the inputs shifted over by one character. The way I like to do this window is use `range` to take steps of size `n_steps` from $0$ to `arr.shape[1]`, the total number of tokens in each sequence. That way, the integers you get from `range` always point to the start of a batch, and each window is `seq_length` wide.\n",
        "\n",
        "> **TODO:** Write the code for creating batches in the function below. The exercises in this notebook _will not be easy_. I've provided a notebook with solutions alongside this notebook. If you get stuck, checkout the solutions. The most important thing is that you don't copy and paste the code into here, **type out the solution code yourself.**"
      ]
    },
    {
      "cell_type": "code",
      "metadata": {
        "id": "XNhqnUGMg_DE",
        "colab_type": "code",
        "colab": {}
      },
      "source": [
        "def get_batches(arr, batch_size, seq_length):\n",
        "    '''Create a generator that returns batches of size\n",
        "       batch_size x seq_length from arr.\n",
        "       \n",
        "       Arguments\n",
        "       ---------\n",
        "       arr: Array you want to make batches from\n",
        "       batch_size: Batch size, the number of sequences per batch\n",
        "       seq_length: Number of encoded chars in a sequence\n",
        "    '''\n",
        "    \n",
        "    ## TODO: Get the number of batches we can make\n",
        "    n_batches = int(len(arr)/(seq_length * batch_size))\n",
        "    \n",
        "    ## TODO: Keep only enough characters to make full batches\n",
        "    arr = arr[:seq_length * batch_size * n_batches]\n",
        "    \n",
        "    ## TODO: Reshape into batch_size rows\n",
        "    arr = arr.reshape((batch_size,-1))\n",
        "    \n",
        "    ## TODO: Iterate over the batches using a window of size seq_length\n",
        "    for n in range(0, arr.shape[1], seq_length):\n",
        "        # The features\n",
        "        x = arr[:, n : n + seq_length]\n",
        "        # The targets, shifted by one\n",
        "        y = np.zeros_like(x)\n",
        "        try:\n",
        "            y[:, :-1], y[:, -1] = x[:, 1:], arr[:, n+seq_length]\n",
        "        except IndexError:\n",
        "            y[:, :-1], y[:, -1] = x[:, 1:], arr[:, 0]\n",
        "        yield x, y"
      ],
      "execution_count": 22,
      "outputs": []
    },
    {
      "cell_type": "markdown",
      "metadata": {
        "id": "Rt0KCnCmg_DH",
        "colab_type": "text"
      },
      "source": [
        "### Test Your Implementation\n",
        "\n",
        "Now I'll make some data sets and we can check out what's going on as we batch data. Here, as an example, I'm going to use a batch size of 8 and 50 sequence steps."
      ]
    },
    {
      "cell_type": "code",
      "metadata": {
        "id": "gVZ5o75Fneb2",
        "colab_type": "code",
        "colab": {
          "base_uri": "https://localhost:8080/",
          "height": 263
        },
        "outputId": "5dc8fca5-4017-452c-e4d0-1d88733b4cb0"
      },
      "source": [
        "test_arr = np.array([i for i in range(0,18)]) \n",
        "for x, y in get_batches(test_arr, 2, 4):\n",
        "    print('x\\n', x)\n",
        "    print('\\ny\\n', y)"
      ],
      "execution_count": 23,
      "outputs": [
        {
          "output_type": "stream",
          "text": [
            "x\n",
            " [[ 0  1  2  3]\n",
            " [ 8  9 10 11]]\n",
            "\n",
            "y\n",
            " [[ 1  2  3  4]\n",
            " [ 9 10 11 12]]\n",
            "x\n",
            " [[ 4  5  6  7]\n",
            " [12 13 14 15]]\n",
            "\n",
            "y\n",
            " [[ 5  6  7  0]\n",
            " [13 14 15  8]]\n"
          ],
          "name": "stdout"
        }
      ]
    },
    {
      "cell_type": "code",
      "metadata": {
        "id": "OFND_vR-g_DI",
        "colab_type": "code",
        "colab": {}
      },
      "source": [
        "batches = get_batches(encoded, 8, 50)\n",
        "x, y = next(batches)"
      ],
      "execution_count": 24,
      "outputs": []
    },
    {
      "cell_type": "code",
      "metadata": {
        "id": "Ut5f4UWpg_DL",
        "colab_type": "code",
        "colab": {
          "base_uri": "https://localhost:8080/",
          "height": 351
        },
        "outputId": "3aa512a1-b249-47b7-fb24-2f64869f6970"
      },
      "source": [
        "# printing out the first 10 items in a sequence\n",
        "print('x\\n', x[:10, :10])\n",
        "print('\\ny\\n', y[:10, :10])"
      ],
      "execution_count": 25,
      "outputs": [
        {
          "output_type": "stream",
          "text": [
            "x\n",
            " [[15 59 73 67 80  2 18 46 22 61]\n",
            " [ 6 10 14 46 80 59 73 80 46 73]\n",
            " [ 2 14 82 46 10 18 46 73 46  5]\n",
            " [ 6 46 80 59  2 46  0 59 40  2]\n",
            " [46  6 73 28 46 59  2 18 46 80]\n",
            " [ 0 53  6  6 40 10 14 46 73 14]\n",
            " [46  4 14 14 73 46 59 73 82 46]\n",
            " [39 26 25 10 14  6 32 68 69 46]]\n",
            "\n",
            "y\n",
            " [[59 73 67 80  2 18 46 22 61 61]\n",
            " [10 14 46 80 59 73 80 46 73 80]\n",
            " [14 82 46 10 18 46 73 46  5 10]\n",
            " [46 80 59  2 46  0 59 40  2  5]\n",
            " [ 6 73 28 46 59  2 18 46 80  2]\n",
            " [53  6  6 40 10 14 46 73 14 82]\n",
            " [ 4 14 14 73 46 59 73 82 46  6]\n",
            " [26 25 10 14  6 32 68 69 46 41]]\n"
          ],
          "name": "stdout"
        }
      ]
    },
    {
      "cell_type": "markdown",
      "metadata": {
        "id": "jDdo75bzg_DP",
        "colab_type": "text"
      },
      "source": [
        "If you implemented `get_batches` correctly, the above output should look something like \n",
        "```\n",
        "x\n",
        " [[25  8 60 11 45 27 28 73  1  2]\n",
        " [17  7 20 73 45  8 60 45 73 60]\n",
        " [27 20 80 73  7 28 73 60 73 65]\n",
        " [17 73 45  8 27 73 66  8 46 27]\n",
        " [73 17 60 12 73  8 27 28 73 45]\n",
        " [66 64 17 17 46  7 20 73 60 20]\n",
        " [73 76 20 20 60 73  8 60 80 73]\n",
        " [47 35 43  7 20 17 24 50 37 73]]\n",
        "\n",
        "y\n",
        " [[ 8 60 11 45 27 28 73  1  2  2]\n",
        " [ 7 20 73 45  8 60 45 73 60 45]\n",
        " [20 80 73  7 28 73 60 73 65  7]\n",
        " [73 45  8 27 73 66  8 46 27 65]\n",
        " [17 60 12 73  8 27 28 73 45 27]\n",
        " [64 17 17 46  7 20 73 60 20 80]\n",
        " [76 20 20 60 73  8 60 80 73 17]\n",
        " [35 43  7 20 17 24 50 37 73 36]]\n",
        " ```\n",
        " although the exact numbers may be different. Check to make sure the data is shifted over one step for `y`."
      ]
    },
    {
      "cell_type": "markdown",
      "metadata": {
        "id": "1ZROg99lg_DP",
        "colab_type": "text"
      },
      "source": [
        "---\n",
        "## Defining the network with PyTorch\n",
        "\n",
        "Below is where you'll define the network.\n",
        "\n",
        "<img src=\"https://github.com/AdelNamani/deep-learning-v2-pytorch/blob/master/recurrent-neural-networks/char-rnn/assets/charRNN.png?raw=1\" width=500px>\n",
        "\n",
        "Next, you'll use PyTorch to define the architecture of the network. We start by defining the layers and operations we want. Then, define a method for the forward pass. You've also been given a method for predicting characters."
      ]
    },
    {
      "cell_type": "markdown",
      "metadata": {
        "id": "wnrhH2Vlg_DQ",
        "colab_type": "text"
      },
      "source": [
        "### Model Structure\n",
        "\n",
        "In `__init__` the suggested structure is as follows:\n",
        "* Create and store the necessary dictionaries (this has been done for you)\n",
        "* Define an LSTM layer that takes as params: an input size (the number of characters), a hidden layer size `n_hidden`, a number of layers `n_layers`, a dropout probability `drop_prob`, and a batch_first boolean (True, since we are batching)\n",
        "* Define a dropout layer with `drop_prob`\n",
        "* Define a fully-connected layer with params: input size `n_hidden` and output size (the number of characters)\n",
        "* Finally, initialize the weights (again, this has been given)\n",
        "\n",
        "Note that some parameters have been named and given in the `__init__` function, and we use them and store them by doing something like `self.drop_prob = drop_prob`."
      ]
    },
    {
      "cell_type": "markdown",
      "metadata": {
        "id": "t1TeEfnzg_DQ",
        "colab_type": "text"
      },
      "source": [
        "---\n",
        "### LSTM Inputs/Outputs\n",
        "\n",
        "You can create a basic [LSTM layer](https://pytorch.org/docs/stable/nn.html#lstm) as follows\n",
        "\n",
        "```python\n",
        "self.lstm = nn.LSTM(input_size, n_hidden, n_layers, \n",
        "                            dropout=drop_prob, batch_first=True)\n",
        "```\n",
        "\n",
        "where `input_size` is the number of characters this cell expects to see as sequential input, and `n_hidden` is the number of units in the hidden layers in the cell. And we can add dropout by adding a dropout parameter with a specified probability; this will automatically add dropout to the inputs or outputs. Finally, in the `forward` function, we can stack up the LSTM cells into layers using `.view`. With this, you pass in a list of cells and it will send the output of one cell into the next cell.\n",
        "\n",
        "We also need to create an initial hidden state of all zeros. This is done like so\n",
        "\n",
        "```python\n",
        "self.init_hidden()\n",
        "```"
      ]
    },
    {
      "cell_type": "code",
      "metadata": {
        "id": "jRzCiyi6g_DR",
        "colab_type": "code",
        "colab": {
          "base_uri": "https://localhost:8080/",
          "height": 34
        },
        "outputId": "56240a70-9f84-4f8a-d289-84a201e7b7b1"
      },
      "source": [
        "# check if GPU is available\n",
        "train_on_gpu = torch.cuda.is_available()\n",
        "if(train_on_gpu):\n",
        "    print('Training on GPU!')\n",
        "else: \n",
        "    print('No GPU available, training on CPU; consider making n_epochs very small.')"
      ],
      "execution_count": 26,
      "outputs": [
        {
          "output_type": "stream",
          "text": [
            "Training on GPU!\n"
          ],
          "name": "stdout"
        }
      ]
    },
    {
      "cell_type": "code",
      "metadata": {
        "id": "b_m0ou8Cg_DU",
        "colab_type": "code",
        "colab": {}
      },
      "source": [
        "class CharRNN(nn.Module):\n",
        "    \n",
        "    def __init__(self, tokens, n_hidden=256, n_layers=2,\n",
        "                               drop_prob=0.5, lr=0.001):\n",
        "        super().__init__()\n",
        "        self.drop_prob = drop_prob\n",
        "        self.n_layers = n_layers\n",
        "        self.n_hidden = n_hidden\n",
        "        self.lr = lr\n",
        "        \n",
        "        # creating character dictionaries\n",
        "        self.chars = tokens\n",
        "        self.int2char = dict(enumerate(self.chars))\n",
        "        self.char2int = {ch: ii for ii, ch in self.int2char.items()}\n",
        "        \n",
        "        ## TODO: define the layers of the model\n",
        "\n",
        "        self.lstm = nn.LSTM(len(self.chars), n_hidden, n_layers, \n",
        "                            dropout=self.drop_prob, batch_first=True)\n",
        "        self.dropout = nn.Dropout(self.drop_prob)\n",
        "        self.fc = nn.Linear(n_hidden, len(self.chars), )\n",
        "    \n",
        "    def forward(self, x, hidden):\n",
        "        ''' Forward pass through the network. \n",
        "            These inputs are x, and the hidden/cell state `hidden`. '''\n",
        "                \n",
        "        ## TODO: Get the outputs and the new hidden state from the lstm\n",
        "        r_output, hidden = self.lstm(x, hidden)\n",
        "        out = self.dropout(r_output)\n",
        "        out = out.contiguous().view(-1, self.n_hidden)\n",
        "        out = self.fc(out)\n",
        "        # return the final output and the hidden state\n",
        "        return out, hidden\n",
        "    \n",
        "    \n",
        "    def init_hidden(self, batch_size):\n",
        "        ''' Initializes hidden state '''\n",
        "        # Create two new tensors with sizes n_layers x batch_size x n_hidden,\n",
        "        # initialized to zero, for hidden state and cell state of LSTM\n",
        "        weight = next(self.parameters()).data\n",
        "        \n",
        "        if (train_on_gpu):\n",
        "            hidden = (weight.new(self.n_layers, batch_size, self.n_hidden).zero_().cuda(),\n",
        "                  weight.new(self.n_layers, batch_size, self.n_hidden).zero_().cuda())\n",
        "        else:\n",
        "            hidden = (weight.new(self.n_layers, batch_size, self.n_hidden).zero_(),\n",
        "                      weight.new(self.n_layers, batch_size, self.n_hidden).zero_())\n",
        "        \n",
        "        return hidden\n",
        "        "
      ],
      "execution_count": 27,
      "outputs": []
    },
    {
      "cell_type": "markdown",
      "metadata": {
        "id": "eU56QLbxg_DY",
        "colab_type": "text"
      },
      "source": [
        "## Time to train\n",
        "\n",
        "The train function gives us the ability to set the number of epochs, the learning rate, and other parameters.\n",
        "\n",
        "Below we're using an Adam optimizer and cross entropy loss since we are looking at character class scores as output. We calculate the loss and perform backpropagation, as usual!\n",
        "\n",
        "A couple of details about training: \n",
        ">* Within the batch loop, we detach the hidden state from its history; this time setting it equal to a new *tuple* variable because an LSTM has a hidden state that is a tuple of the hidden and cell states.\n",
        "* We use [`clip_grad_norm_`](https://pytorch.org/docs/stable/_modules/torch/nn/utils/clip_grad.html) to help prevent exploding gradients."
      ]
    },
    {
      "cell_type": "code",
      "metadata": {
        "id": "vUZDRqQag_DZ",
        "colab_type": "code",
        "colab": {}
      },
      "source": [
        "def train(net, data, epochs=10, batch_size=10, seq_length=50, lr=0.001, clip=5, val_frac=0.1, print_every=10):\n",
        "    ''' Training a network \n",
        "    \n",
        "        Arguments\n",
        "        ---------\n",
        "        \n",
        "        net: CharRNN network\n",
        "        data: text data to train the network\n",
        "        epochs: Number of epochs to train\n",
        "        batch_size: Number of mini-sequences per mini-batch, aka batch size\n",
        "        seq_length: Number of character steps per mini-batch\n",
        "        lr: learning rate\n",
        "        clip: gradient clipping\n",
        "        val_frac: Fraction of data to hold out for validation\n",
        "        print_every: Number of steps for printing training and validation loss\n",
        "    \n",
        "    '''\n",
        "    net.train()\n",
        "    \n",
        "    opt = torch.optim.Adam(net.parameters(), lr=lr)\n",
        "    criterion = nn.CrossEntropyLoss()\n",
        "    \n",
        "    # create training and validation data\n",
        "    val_idx = int(len(data)*(1-val_frac))\n",
        "    data, val_data = data[:val_idx], data[val_idx:]\n",
        "    \n",
        "    if(train_on_gpu):\n",
        "        net.cuda()\n",
        "    \n",
        "    counter = 0\n",
        "    n_chars = len(net.chars)\n",
        "    for e in range(epochs):\n",
        "        # initialize hidden state\n",
        "        h = net.init_hidden(batch_size)\n",
        "        \n",
        "        for x, y in get_batches(data, batch_size, seq_length):\n",
        "            counter += 1\n",
        "            \n",
        "            # One-hot encode our data and make them Torch tensors\n",
        "            x = one_hot_encode(x, n_chars)\n",
        "            inputs, targets = torch.from_numpy(x), torch.from_numpy(y)\n",
        "            \n",
        "            if(train_on_gpu):\n",
        "                inputs, targets = inputs.cuda(), targets.cuda()\n",
        "\n",
        "            # Creating new variables for the hidden state, otherwise\n",
        "            # we'd backprop through the entire training history\n",
        "            h = tuple([each.data for each in h])\n",
        "\n",
        "            # zero accumulated gradients\n",
        "            net.zero_grad()\n",
        "            \n",
        "            # get the output from the model\n",
        "            output, h = net(inputs, h)\n",
        "            \n",
        "            # calculate the loss and perform backprop\n",
        "            loss = criterion(output, targets.view(batch_size*seq_length).long())\n",
        "            loss.backward()\n",
        "            # `clip_grad_norm` helps prevent the exploding gradient problem in RNNs / LSTMs.\n",
        "            nn.utils.clip_grad_norm_(net.parameters(), clip)\n",
        "            opt.step()\n",
        "            \n",
        "            # loss stats\n",
        "            if counter % print_every == 0:\n",
        "                # Get validation loss\n",
        "                val_h = net.init_hidden(batch_size)\n",
        "                val_losses = []\n",
        "                net.eval()\n",
        "                for x, y in get_batches(val_data, batch_size, seq_length):\n",
        "                    # One-hot encode our data and make them Torch tensors\n",
        "                    x = one_hot_encode(x, n_chars)\n",
        "                    x, y = torch.from_numpy(x), torch.from_numpy(y)\n",
        "                    \n",
        "                    # Creating new variables for the hidden state, otherwise\n",
        "                    # we'd backprop through the entire training history\n",
        "                    val_h = tuple([each.data for each in val_h])\n",
        "                    \n",
        "                    inputs, targets = x, y\n",
        "                    if(train_on_gpu):\n",
        "                        inputs, targets = inputs.cuda(), targets.cuda()\n",
        "\n",
        "                    output, val_h = net(inputs, val_h)\n",
        "                    val_loss = criterion(output, targets.view(batch_size*seq_length).long())\n",
        "                \n",
        "                    val_losses.append(val_loss.item())\n",
        "                \n",
        "                net.train() # reset to train mode after iterationg through validation data\n",
        "                \n",
        "                print(\"Epoch: {}/{}...\".format(e+1, epochs),\n",
        "                      \"Step: {}...\".format(counter),\n",
        "                      \"Loss: {:.4f}...\".format(loss.item()),\n",
        "                      \"Val Loss: {:.4f}\".format(np.mean(val_losses)))"
      ],
      "execution_count": 28,
      "outputs": []
    },
    {
      "cell_type": "markdown",
      "metadata": {
        "id": "PXv_FafFg_Dc",
        "colab_type": "text"
      },
      "source": [
        "## Instantiating the model\n",
        "\n",
        "Now we can actually train the network. First we'll create the network itself, with some given hyperparameters. Then, define the mini-batches sizes, and start training!"
      ]
    },
    {
      "cell_type": "code",
      "metadata": {
        "id": "O8SAY7k1g_Dd",
        "colab_type": "code",
        "colab": {
          "base_uri": "https://localhost:8080/",
          "height": 105
        },
        "outputId": "fe36d12c-4a34-421a-c306-a81525861184"
      },
      "source": [
        "## TODO: set your model hyperparameters\n",
        "# define and print the net\n",
        "n_hidden=512\n",
        "n_layers=2\n",
        "\n",
        "net = CharRNN(chars, n_hidden, n_layers)\n",
        "print(net)"
      ],
      "execution_count": 29,
      "outputs": [
        {
          "output_type": "stream",
          "text": [
            "CharRNN(\n",
            "  (lstm): LSTM(83, 512, num_layers=2, batch_first=True, dropout=0.5)\n",
            "  (dropout): Dropout(p=0.5, inplace=False)\n",
            "  (fc): Linear(in_features=512, out_features=83, bias=True)\n",
            ")\n"
          ],
          "name": "stdout"
        }
      ]
    },
    {
      "cell_type": "markdown",
      "metadata": {
        "id": "EyLeTT8Tg_Dh",
        "colab_type": "text"
      },
      "source": [
        "### Set your training hyperparameters!"
      ]
    },
    {
      "cell_type": "code",
      "metadata": {
        "scrolled": true,
        "id": "sixRpzSbg_Di",
        "colab_type": "code",
        "colab": {
          "base_uri": "https://localhost:8080/",
          "height": 1000
        },
        "outputId": "3b79c3d1-935a-4929-8369-dabb3e0f5d83"
      },
      "source": [
        "batch_size = 128\n",
        "seq_length = 100\n",
        "n_epochs =  30 # start small if you are just testing initial behavior\n",
        "\n",
        "# train the model\n",
        "train(net, encoded, epochs=n_epochs, batch_size=batch_size, seq_length=seq_length, lr=0.001, print_every=10)"
      ],
      "execution_count": 35,
      "outputs": [
        {
          "output_type": "stream",
          "text": [
            "Epoch: 1/30... Step: 10... Loss: 2.0963... Val Loss: 2.0397\n",
            "Epoch: 1/30... Step: 20... Loss: 2.0565... Val Loss: 2.0147\n",
            "Epoch: 1/30... Step: 30... Loss: 2.0429... Val Loss: 1.9914\n",
            "Epoch: 1/30... Step: 40... Loss: 1.9967... Val Loss: 1.9760\n",
            "Epoch: 1/30... Step: 50... Loss: 2.0257... Val Loss: 1.9648\n",
            "Epoch: 1/30... Step: 60... Loss: 1.9537... Val Loss: 1.9533\n",
            "Epoch: 1/30... Step: 70... Loss: 1.9672... Val Loss: 1.9411\n",
            "Epoch: 1/30... Step: 80... Loss: 1.9380... Val Loss: 1.9287\n",
            "Epoch: 1/30... Step: 90... Loss: 1.9674... Val Loss: 1.9196\n",
            "Epoch: 1/30... Step: 100... Loss: 1.9309... Val Loss: 1.9091\n",
            "Epoch: 1/30... Step: 110... Loss: 1.9228... Val Loss: 1.9031\n",
            "Epoch: 1/30... Step: 120... Loss: 1.8843... Val Loss: 1.8908\n",
            "Epoch: 1/30... Step: 130... Loss: 1.9268... Val Loss: 1.8765\n",
            "Epoch: 2/30... Step: 140... Loss: 1.9207... Val Loss: 1.8641\n",
            "Epoch: 2/30... Step: 150... Loss: 1.9007... Val Loss: 1.8553\n",
            "Epoch: 2/30... Step: 160... Loss: 1.8969... Val Loss: 1.8452\n",
            "Epoch: 2/30... Step: 170... Loss: 1.8768... Val Loss: 1.8354\n",
            "Epoch: 2/30... Step: 180... Loss: 1.8449... Val Loss: 1.8236\n",
            "Epoch: 2/30... Step: 190... Loss: 1.7952... Val Loss: 1.8155\n",
            "Epoch: 2/30... Step: 200... Loss: 1.8088... Val Loss: 1.8053\n",
            "Epoch: 2/30... Step: 210... Loss: 1.8146... Val Loss: 1.7927\n",
            "Epoch: 2/30... Step: 220... Loss: 1.7858... Val Loss: 1.7851\n",
            "Epoch: 2/30... Step: 230... Loss: 1.8102... Val Loss: 1.7764\n",
            "Epoch: 2/30... Step: 240... Loss: 1.8020... Val Loss: 1.7665\n",
            "Epoch: 2/30... Step: 250... Loss: 1.7695... Val Loss: 1.7572\n",
            "Epoch: 2/30... Step: 260... Loss: 1.7326... Val Loss: 1.7425\n",
            "Epoch: 2/30... Step: 270... Loss: 1.7735... Val Loss: 1.7373\n",
            "Epoch: 3/30... Step: 280... Loss: 1.7601... Val Loss: 1.7289\n",
            "Epoch: 3/30... Step: 290... Loss: 1.7623... Val Loss: 1.7178\n",
            "Epoch: 3/30... Step: 300... Loss: 1.7223... Val Loss: 1.7103\n",
            "Epoch: 3/30... Step: 310... Loss: 1.7178... Val Loss: 1.7021\n",
            "Epoch: 3/30... Step: 320... Loss: 1.6839... Val Loss: 1.6956\n",
            "Epoch: 3/30... Step: 330... Loss: 1.6921... Val Loss: 1.6884\n",
            "Epoch: 3/30... Step: 340... Loss: 1.7399... Val Loss: 1.6796\n",
            "Epoch: 3/30... Step: 350... Loss: 1.6891... Val Loss: 1.6729\n",
            "Epoch: 3/30... Step: 360... Loss: 1.6529... Val Loss: 1.6629\n",
            "Epoch: 3/30... Step: 370... Loss: 1.6816... Val Loss: 1.6558\n",
            "Epoch: 3/30... Step: 380... Loss: 1.6741... Val Loss: 1.6494\n",
            "Epoch: 3/30... Step: 390... Loss: 1.6561... Val Loss: 1.6430\n",
            "Epoch: 3/30... Step: 400... Loss: 1.6252... Val Loss: 1.6389\n",
            "Epoch: 3/30... Step: 410... Loss: 1.6466... Val Loss: 1.6303\n",
            "Epoch: 4/30... Step: 420... Loss: 1.6451... Val Loss: 1.6241\n",
            "Epoch: 4/30... Step: 430... Loss: 1.6437... Val Loss: 1.6179\n",
            "Epoch: 4/30... Step: 440... Loss: 1.6365... Val Loss: 1.6118\n",
            "Epoch: 4/30... Step: 450... Loss: 1.5778... Val Loss: 1.6028\n",
            "Epoch: 4/30... Step: 460... Loss: 1.5677... Val Loss: 1.5965\n",
            "Epoch: 4/30... Step: 470... Loss: 1.6214... Val Loss: 1.5955\n",
            "Epoch: 4/30... Step: 480... Loss: 1.5994... Val Loss: 1.5885\n",
            "Epoch: 4/30... Step: 490... Loss: 1.6040... Val Loss: 1.5815\n",
            "Epoch: 4/30... Step: 500... Loss: 1.6111... Val Loss: 1.5759\n",
            "Epoch: 4/30... Step: 510... Loss: 1.5824... Val Loss: 1.5722\n",
            "Epoch: 4/30... Step: 520... Loss: 1.5937... Val Loss: 1.5666\n",
            "Epoch: 4/30... Step: 530... Loss: 1.5670... Val Loss: 1.5626\n",
            "Epoch: 4/30... Step: 540... Loss: 1.5355... Val Loss: 1.5558\n",
            "Epoch: 4/30... Step: 550... Loss: 1.5961... Val Loss: 1.5580\n",
            "Epoch: 5/30... Step: 560... Loss: 1.5543... Val Loss: 1.5480\n",
            "Epoch: 5/30... Step: 570... Loss: 1.5489... Val Loss: 1.5416\n",
            "Epoch: 5/30... Step: 580... Loss: 1.5387... Val Loss: 1.5363\n",
            "Epoch: 5/30... Step: 590... Loss: 1.5256... Val Loss: 1.5321\n",
            "Epoch: 5/30... Step: 600... Loss: 1.5317... Val Loss: 1.5316\n",
            "Epoch: 5/30... Step: 610... Loss: 1.5170... Val Loss: 1.5223\n",
            "Epoch: 5/30... Step: 620... Loss: 1.5274... Val Loss: 1.5238\n",
            "Epoch: 5/30... Step: 630... Loss: 1.5400... Val Loss: 1.5182\n",
            "Epoch: 5/30... Step: 640... Loss: 1.5117... Val Loss: 1.5121\n",
            "Epoch: 5/30... Step: 650... Loss: 1.5069... Val Loss: 1.5086\n",
            "Epoch: 5/30... Step: 660... Loss: 1.4856... Val Loss: 1.5060\n",
            "Epoch: 5/30... Step: 670... Loss: 1.5057... Val Loss: 1.5028\n",
            "Epoch: 5/30... Step: 680... Loss: 1.5166... Val Loss: 1.4983\n",
            "Epoch: 5/30... Step: 690... Loss: 1.4933... Val Loss: 1.4968\n",
            "Epoch: 6/30... Step: 700... Loss: 1.4993... Val Loss: 1.4905\n",
            "Epoch: 6/30... Step: 710... Loss: 1.4876... Val Loss: 1.4862\n",
            "Epoch: 6/30... Step: 720... Loss: 1.4742... Val Loss: 1.4874\n",
            "Epoch: 6/30... Step: 730... Loss: 1.4912... Val Loss: 1.4820\n",
            "Epoch: 6/30... Step: 740... Loss: 1.4682... Val Loss: 1.4823\n",
            "Epoch: 6/30... Step: 750... Loss: 1.4538... Val Loss: 1.4710\n",
            "Epoch: 6/30... Step: 760... Loss: 1.4820... Val Loss: 1.4721\n",
            "Epoch: 6/30... Step: 770... Loss: 1.4600... Val Loss: 1.4686\n",
            "Epoch: 6/30... Step: 780... Loss: 1.4507... Val Loss: 1.4638\n",
            "Epoch: 6/30... Step: 790... Loss: 1.4357... Val Loss: 1.4606\n",
            "Epoch: 6/30... Step: 800... Loss: 1.4635... Val Loss: 1.4604\n",
            "Epoch: 6/30... Step: 810... Loss: 1.4404... Val Loss: 1.4595\n",
            "Epoch: 6/30... Step: 820... Loss: 1.4066... Val Loss: 1.4553\n",
            "Epoch: 6/30... Step: 830... Loss: 1.4569... Val Loss: 1.4539\n",
            "Epoch: 7/30... Step: 840... Loss: 1.4253... Val Loss: 1.4523\n",
            "Epoch: 7/30... Step: 850... Loss: 1.4393... Val Loss: 1.4486\n",
            "Epoch: 7/30... Step: 860... Loss: 1.4256... Val Loss: 1.4439\n",
            "Epoch: 7/30... Step: 870... Loss: 1.4303... Val Loss: 1.4426\n",
            "Epoch: 7/30... Step: 880... Loss: 1.4403... Val Loss: 1.4408\n",
            "Epoch: 7/30... Step: 890... Loss: 1.4336... Val Loss: 1.4349\n",
            "Epoch: 7/30... Step: 900... Loss: 1.4306... Val Loss: 1.4359\n",
            "Epoch: 7/30... Step: 910... Loss: 1.3941... Val Loss: 1.4383\n",
            "Epoch: 7/30... Step: 920... Loss: 1.4207... Val Loss: 1.4312\n",
            "Epoch: 7/30... Step: 930... Loss: 1.4051... Val Loss: 1.4284\n",
            "Epoch: 7/30... Step: 940... Loss: 1.4071... Val Loss: 1.4283\n",
            "Epoch: 7/30... Step: 950... Loss: 1.4177... Val Loss: 1.4273\n",
            "Epoch: 7/30... Step: 960... Loss: 1.4216... Val Loss: 1.4217\n",
            "Epoch: 7/30... Step: 970... Loss: 1.4230... Val Loss: 1.4233\n",
            "Epoch: 8/30... Step: 980... Loss: 1.3897... Val Loss: 1.4202\n",
            "Epoch: 8/30... Step: 990... Loss: 1.3960... Val Loss: 1.4190\n",
            "Epoch: 8/30... Step: 1000... Loss: 1.3914... Val Loss: 1.4167\n",
            "Epoch: 8/30... Step: 1010... Loss: 1.4316... Val Loss: 1.4160\n",
            "Epoch: 8/30... Step: 1020... Loss: 1.4048... Val Loss: 1.4147\n",
            "Epoch: 8/30... Step: 1030... Loss: 1.3791... Val Loss: 1.4088\n",
            "Epoch: 8/30... Step: 1040... Loss: 1.4018... Val Loss: 1.4084\n",
            "Epoch: 8/30... Step: 1050... Loss: 1.3900... Val Loss: 1.4124\n",
            "Epoch: 8/30... Step: 1060... Loss: 1.3782... Val Loss: 1.4005\n",
            "Epoch: 8/30... Step: 1070... Loss: 1.3942... Val Loss: 1.4043\n",
            "Epoch: 8/30... Step: 1080... Loss: 1.3856... Val Loss: 1.4021\n",
            "Epoch: 8/30... Step: 1090... Loss: 1.3737... Val Loss: 1.4015\n",
            "Epoch: 8/30... Step: 1100... Loss: 1.3670... Val Loss: 1.3993\n",
            "Epoch: 8/30... Step: 1110... Loss: 1.3779... Val Loss: 1.3981\n",
            "Epoch: 9/30... Step: 1120... Loss: 1.3812... Val Loss: 1.3959\n",
            "Epoch: 9/30... Step: 1130... Loss: 1.3723... Val Loss: 1.3946\n",
            "Epoch: 9/30... Step: 1140... Loss: 1.3788... Val Loss: 1.3885\n",
            "Epoch: 9/30... Step: 1150... Loss: 1.3980... Val Loss: 1.3937\n",
            "Epoch: 9/30... Step: 1160... Loss: 1.3546... Val Loss: 1.3911\n",
            "Epoch: 9/30... Step: 1170... Loss: 1.3588... Val Loss: 1.3906\n",
            "Epoch: 9/30... Step: 1180... Loss: 1.3525... Val Loss: 1.3908\n",
            "Epoch: 9/30... Step: 1190... Loss: 1.3868... Val Loss: 1.3902\n",
            "Epoch: 9/30... Step: 1200... Loss: 1.3462... Val Loss: 1.3831\n",
            "Epoch: 9/30... Step: 1210... Loss: 1.3464... Val Loss: 1.3854\n",
            "Epoch: 9/30... Step: 1220... Loss: 1.3499... Val Loss: 1.3818\n",
            "Epoch: 9/30... Step: 1230... Loss: 1.3358... Val Loss: 1.3854\n",
            "Epoch: 9/30... Step: 1240... Loss: 1.3377... Val Loss: 1.3790\n",
            "Epoch: 9/30... Step: 1250... Loss: 1.3530... Val Loss: 1.3815\n",
            "Epoch: 10/30... Step: 1260... Loss: 1.3573... Val Loss: 1.3794\n",
            "Epoch: 10/30... Step: 1270... Loss: 1.3512... Val Loss: 1.3791\n",
            "Epoch: 10/30... Step: 1280... Loss: 1.3526... Val Loss: 1.3723\n",
            "Epoch: 10/30... Step: 1290... Loss: 1.3559... Val Loss: 1.3755\n",
            "Epoch: 10/30... Step: 1300... Loss: 1.3454... Val Loss: 1.3723\n",
            "Epoch: 10/30... Step: 1310... Loss: 1.3449... Val Loss: 1.3719\n",
            "Epoch: 10/30... Step: 1320... Loss: 1.3179... Val Loss: 1.3773\n",
            "Epoch: 10/30... Step: 1330... Loss: 1.3314... Val Loss: 1.3734\n",
            "Epoch: 10/30... Step: 1340... Loss: 1.3172... Val Loss: 1.3670\n",
            "Epoch: 10/30... Step: 1350... Loss: 1.3121... Val Loss: 1.3705\n",
            "Epoch: 10/30... Step: 1360... Loss: 1.3197... Val Loss: 1.3716\n",
            "Epoch: 10/30... Step: 1370... Loss: 1.3096... Val Loss: 1.3673\n",
            "Epoch: 10/30... Step: 1380... Loss: 1.3455... Val Loss: 1.3656\n",
            "Epoch: 10/30... Step: 1390... Loss: 1.3636... Val Loss: 1.3662\n",
            "Epoch: 11/30... Step: 1400... Loss: 1.3577... Val Loss: 1.3646\n",
            "Epoch: 11/30... Step: 1410... Loss: 1.3742... Val Loss: 1.3640\n",
            "Epoch: 11/30... Step: 1420... Loss: 1.3596... Val Loss: 1.3583\n",
            "Epoch: 11/30... Step: 1430... Loss: 1.3241... Val Loss: 1.3617\n",
            "Epoch: 11/30... Step: 1440... Loss: 1.3423... Val Loss: 1.3593\n",
            "Epoch: 11/30... Step: 1450... Loss: 1.2806... Val Loss: 1.3589\n",
            "Epoch: 11/30... Step: 1460... Loss: 1.3114... Val Loss: 1.3606\n",
            "Epoch: 11/30... Step: 1470... Loss: 1.2943... Val Loss: 1.3611\n",
            "Epoch: 11/30... Step: 1480... Loss: 1.3172... Val Loss: 1.3545\n",
            "Epoch: 11/30... Step: 1490... Loss: 1.3088... Val Loss: 1.3544\n",
            "Epoch: 11/30... Step: 1500... Loss: 1.3018... Val Loss: 1.3569\n",
            "Epoch: 11/30... Step: 1510... Loss: 1.2801... Val Loss: 1.3561\n",
            "Epoch: 11/30... Step: 1520... Loss: 1.3206... Val Loss: 1.3525\n",
            "Epoch: 12/30... Step: 1530... Loss: 1.3667... Val Loss: 1.3540\n",
            "Epoch: 12/30... Step: 1540... Loss: 1.3220... Val Loss: 1.3493\n",
            "Epoch: 12/30... Step: 1550... Loss: 1.3287... Val Loss: 1.3510\n",
            "Epoch: 12/30... Step: 1560... Loss: 1.3403... Val Loss: 1.3466\n",
            "Epoch: 12/30... Step: 1570... Loss: 1.2946... Val Loss: 1.3491\n",
            "Epoch: 12/30... Step: 1580... Loss: 1.2709... Val Loss: 1.3482\n",
            "Epoch: 12/30... Step: 1590... Loss: 1.2700... Val Loss: 1.3488\n",
            "Epoch: 12/30... Step: 1600... Loss: 1.2841... Val Loss: 1.3479\n",
            "Epoch: 12/30... Step: 1610... Loss: 1.2862... Val Loss: 1.3499\n",
            "Epoch: 12/30... Step: 1620... Loss: 1.2815... Val Loss: 1.3440\n",
            "Epoch: 12/30... Step: 1630... Loss: 1.3059... Val Loss: 1.3433\n",
            "Epoch: 12/30... Step: 1640... Loss: 1.2837... Val Loss: 1.3464\n",
            "Epoch: 12/30... Step: 1650... Loss: 1.2623... Val Loss: 1.3447\n",
            "Epoch: 12/30... Step: 1660... Loss: 1.3109... Val Loss: 1.3414\n",
            "Epoch: 13/30... Step: 1670... Loss: 1.2800... Val Loss: 1.3392\n",
            "Epoch: 13/30... Step: 1680... Loss: 1.2904... Val Loss: 1.3397\n",
            "Epoch: 13/30... Step: 1690... Loss: 1.2801... Val Loss: 1.3381\n",
            "Epoch: 13/30... Step: 1700... Loss: 1.2822... Val Loss: 1.3363\n",
            "Epoch: 13/30... Step: 1710... Loss: 1.2562... Val Loss: 1.3388\n",
            "Epoch: 13/30... Step: 1720... Loss: 1.2728... Val Loss: 1.3396\n",
            "Epoch: 13/30... Step: 1730... Loss: 1.3146... Val Loss: 1.3390\n",
            "Epoch: 13/30... Step: 1740... Loss: 1.2712... Val Loss: 1.3386\n",
            "Epoch: 13/30... Step: 1750... Loss: 1.2485... Val Loss: 1.3412\n",
            "Epoch: 13/30... Step: 1760... Loss: 1.2699... Val Loss: 1.3374\n",
            "Epoch: 13/30... Step: 1770... Loss: 1.2964... Val Loss: 1.3336\n",
            "Epoch: 13/30... Step: 1780... Loss: 1.2706... Val Loss: 1.3356\n",
            "Epoch: 13/30... Step: 1790... Loss: 1.2559... Val Loss: 1.3371\n",
            "Epoch: 13/30... Step: 1800... Loss: 1.2814... Val Loss: 1.3326\n",
            "Epoch: 14/30... Step: 1810... Loss: 1.2862... Val Loss: 1.3338\n",
            "Epoch: 14/30... Step: 1820... Loss: 1.2690... Val Loss: 1.3299\n",
            "Epoch: 14/30... Step: 1830... Loss: 1.2894... Val Loss: 1.3280\n",
            "Epoch: 14/30... Step: 1840... Loss: 1.2399... Val Loss: 1.3271\n",
            "Epoch: 14/30... Step: 1850... Loss: 1.2177... Val Loss: 1.3296\n",
            "Epoch: 14/30... Step: 1860... Loss: 1.2814... Val Loss: 1.3304\n",
            "Epoch: 14/30... Step: 1870... Loss: 1.2900... Val Loss: 1.3286\n",
            "Epoch: 14/30... Step: 1880... Loss: 1.2686... Val Loss: 1.3288\n",
            "Epoch: 14/30... Step: 1890... Loss: 1.2961... Val Loss: 1.3344\n",
            "Epoch: 14/30... Step: 1900... Loss: 1.2658... Val Loss: 1.3323\n",
            "Epoch: 14/30... Step: 1910... Loss: 1.2636... Val Loss: 1.3261\n",
            "Epoch: 14/30... Step: 1920... Loss: 1.2662... Val Loss: 1.3256\n",
            "Epoch: 14/30... Step: 1930... Loss: 1.2248... Val Loss: 1.3235\n",
            "Epoch: 14/30... Step: 1940... Loss: 1.2815... Val Loss: 1.3209\n",
            "Epoch: 15/30... Step: 1950... Loss: 1.2636... Val Loss: 1.3237\n",
            "Epoch: 15/30... Step: 1960... Loss: 1.2564... Val Loss: 1.3217\n",
            "Epoch: 15/30... Step: 1970... Loss: 1.2497... Val Loss: 1.3198\n",
            "Epoch: 15/30... Step: 1980... Loss: 1.2448... Val Loss: 1.3193\n",
            "Epoch: 15/30... Step: 1990... Loss: 1.2448... Val Loss: 1.3194\n",
            "Epoch: 15/30... Step: 2000... Loss: 1.2354... Val Loss: 1.3196\n",
            "Epoch: 15/30... Step: 2010... Loss: 1.2533... Val Loss: 1.3199\n",
            "Epoch: 15/30... Step: 2020... Loss: 1.2712... Val Loss: 1.3236\n",
            "Epoch: 15/30... Step: 2030... Loss: 1.2481... Val Loss: 1.3259\n",
            "Epoch: 15/30... Step: 2040... Loss: 1.2441... Val Loss: 1.3183\n",
            "Epoch: 15/30... Step: 2050... Loss: 1.2318... Val Loss: 1.3183\n",
            "Epoch: 15/30... Step: 2060... Loss: 1.2438... Val Loss: 1.3161\n",
            "Epoch: 15/30... Step: 2070... Loss: 1.2625... Val Loss: 1.3167\n",
            "Epoch: 15/30... Step: 2080... Loss: 1.2529... Val Loss: 1.3118\n",
            "Epoch: 16/30... Step: 2090... Loss: 1.2576... Val Loss: 1.3159\n",
            "Epoch: 16/30... Step: 2100... Loss: 1.2433... Val Loss: 1.3127\n",
            "Epoch: 16/30... Step: 2110... Loss: 1.2295... Val Loss: 1.3093\n",
            "Epoch: 16/30... Step: 2120... Loss: 1.2546... Val Loss: 1.3133\n",
            "Epoch: 16/30... Step: 2130... Loss: 1.2241... Val Loss: 1.3120\n",
            "Epoch: 16/30... Step: 2140... Loss: 1.2280... Val Loss: 1.3100\n",
            "Epoch: 16/30... Step: 2150... Loss: 1.2606... Val Loss: 1.3088\n",
            "Epoch: 16/30... Step: 2160... Loss: 1.2321... Val Loss: 1.3105\n",
            "Epoch: 16/30... Step: 2170... Loss: 1.2371... Val Loss: 1.3138\n",
            "Epoch: 16/30... Step: 2180... Loss: 1.2302... Val Loss: 1.3071\n",
            "Epoch: 16/30... Step: 2190... Loss: 1.2506... Val Loss: 1.3075\n",
            "Epoch: 16/30... Step: 2200... Loss: 1.2246... Val Loss: 1.3037\n",
            "Epoch: 16/30... Step: 2210... Loss: 1.1878... Val Loss: 1.3015\n",
            "Epoch: 16/30... Step: 2220... Loss: 1.2406... Val Loss: 1.3090\n",
            "Epoch: 17/30... Step: 2230... Loss: 1.2227... Val Loss: 1.2985\n",
            "Epoch: 17/30... Step: 2240... Loss: 1.2263... Val Loss: 1.2996\n",
            "Epoch: 17/30... Step: 2250... Loss: 1.2083... Val Loss: 1.3014\n",
            "Epoch: 17/30... Step: 2260... Loss: 1.2195... Val Loss: 1.3002\n",
            "Epoch: 17/30... Step: 2270... Loss: 1.2228... Val Loss: 1.2982\n",
            "Epoch: 17/30... Step: 2280... Loss: 1.2318... Val Loss: 1.2969\n",
            "Epoch: 17/30... Step: 2290... Loss: 1.2307... Val Loss: 1.2950\n",
            "Epoch: 17/30... Step: 2300... Loss: 1.2002... Val Loss: 1.3000\n",
            "Epoch: 17/30... Step: 2310... Loss: 1.2211... Val Loss: 1.3032\n",
            "Epoch: 17/30... Step: 2320... Loss: 1.2136... Val Loss: 1.2953\n",
            "Epoch: 17/30... Step: 2330... Loss: 1.2069... Val Loss: 1.2961\n",
            "Epoch: 17/30... Step: 2340... Loss: 1.2276... Val Loss: 1.2956\n",
            "Epoch: 17/30... Step: 2350... Loss: 1.2209... Val Loss: 1.2909\n",
            "Epoch: 17/30... Step: 2360... Loss: 1.2306... Val Loss: 1.2993\n",
            "Epoch: 18/30... Step: 2370... Loss: 1.2036... Val Loss: 1.3018\n",
            "Epoch: 18/30... Step: 2380... Loss: 1.2093... Val Loss: 1.2952\n",
            "Epoch: 18/30... Step: 2390... Loss: 1.2140... Val Loss: 1.2906\n",
            "Epoch: 18/30... Step: 2400... Loss: 1.2213... Val Loss: 1.2892\n",
            "Epoch: 18/30... Step: 2410... Loss: 1.2302... Val Loss: 1.2926\n",
            "Epoch: 18/30... Step: 2420... Loss: 1.2046... Val Loss: 1.2862\n",
            "Epoch: 18/30... Step: 2430... Loss: 1.2169... Val Loss: 1.2915\n",
            "Epoch: 18/30... Step: 2440... Loss: 1.2072... Val Loss: 1.2859\n",
            "Epoch: 18/30... Step: 2450... Loss: 1.2043... Val Loss: 1.2873\n",
            "Epoch: 18/30... Step: 2460... Loss: 1.2096... Val Loss: 1.2848\n",
            "Epoch: 18/30... Step: 2470... Loss: 1.2069... Val Loss: 1.2874\n",
            "Epoch: 18/30... Step: 2480... Loss: 1.2023... Val Loss: 1.2825\n",
            "Epoch: 18/30... Step: 2490... Loss: 1.1913... Val Loss: 1.2864\n",
            "Epoch: 18/30... Step: 2500... Loss: 1.1977... Val Loss: 1.2900\n",
            "Epoch: 19/30... Step: 2510... Loss: 1.2038... Val Loss: 1.2868\n",
            "Epoch: 19/30... Step: 2520... Loss: 1.2168... Val Loss: 1.2816\n",
            "Epoch: 19/30... Step: 2530... Loss: 1.2185... Val Loss: 1.2822\n",
            "Epoch: 19/30... Step: 2540... Loss: 1.2351... Val Loss: 1.2844\n",
            "Epoch: 19/30... Step: 2550... Loss: 1.1861... Val Loss: 1.2811\n",
            "Epoch: 19/30... Step: 2560... Loss: 1.2009... Val Loss: 1.2783\n",
            "Epoch: 19/30... Step: 2570... Loss: 1.1871... Val Loss: 1.2829\n",
            "Epoch: 19/30... Step: 2580... Loss: 1.2314... Val Loss: 1.2800\n",
            "Epoch: 19/30... Step: 2590... Loss: 1.1827... Val Loss: 1.2758\n",
            "Epoch: 19/30... Step: 2600... Loss: 1.1899... Val Loss: 1.2824\n",
            "Epoch: 19/30... Step: 2610... Loss: 1.1904... Val Loss: 1.2903\n",
            "Epoch: 19/30... Step: 2620... Loss: 1.1780... Val Loss: 1.2795\n",
            "Epoch: 19/30... Step: 2630... Loss: 1.1841... Val Loss: 1.2752\n",
            "Epoch: 19/30... Step: 2640... Loss: 1.2008... Val Loss: 1.2793\n",
            "Epoch: 20/30... Step: 2650... Loss: 1.1909... Val Loss: 1.2748\n",
            "Epoch: 20/30... Step: 2660... Loss: 1.2025... Val Loss: 1.2784\n",
            "Epoch: 20/30... Step: 2670... Loss: 1.2121... Val Loss: 1.2773\n",
            "Epoch: 20/30... Step: 2680... Loss: 1.1930... Val Loss: 1.2813\n",
            "Epoch: 20/30... Step: 2690... Loss: 1.2002... Val Loss: 1.2783\n",
            "Epoch: 20/30... Step: 2700... Loss: 1.2028... Val Loss: 1.2773\n",
            "Epoch: 20/30... Step: 2710... Loss: 1.1767... Val Loss: 1.2799\n",
            "Epoch: 20/30... Step: 2720... Loss: 1.1791... Val Loss: 1.2780\n",
            "Epoch: 20/30... Step: 2730... Loss: 1.1607... Val Loss: 1.2788\n",
            "Epoch: 20/30... Step: 2740... Loss: 1.1700... Val Loss: 1.2766\n",
            "Epoch: 20/30... Step: 2750... Loss: 1.1751... Val Loss: 1.2837\n",
            "Epoch: 20/30... Step: 2760... Loss: 1.1704... Val Loss: 1.2787\n",
            "Epoch: 20/30... Step: 2770... Loss: 1.2102... Val Loss: 1.2757\n",
            "Epoch: 20/30... Step: 2780... Loss: 1.2360... Val Loss: 1.2791\n",
            "Epoch: 21/30... Step: 2790... Loss: 1.2089... Val Loss: 1.2767\n",
            "Epoch: 21/30... Step: 2800... Loss: 1.2260... Val Loss: 1.2757\n",
            "Epoch: 21/30... Step: 2810... Loss: 1.2107... Val Loss: 1.2712\n",
            "Epoch: 21/30... Step: 2820... Loss: 1.1879... Val Loss: 1.2759\n",
            "Epoch: 21/30... Step: 2830... Loss: 1.1994... Val Loss: 1.2767\n",
            "Epoch: 21/30... Step: 2840... Loss: 1.1571... Val Loss: 1.2750\n",
            "Epoch: 21/30... Step: 2850... Loss: 1.1698... Val Loss: 1.2748\n",
            "Epoch: 21/30... Step: 2860... Loss: 1.1592... Val Loss: 1.2750\n",
            "Epoch: 21/30... Step: 2870... Loss: 1.1796... Val Loss: 1.2719\n",
            "Epoch: 21/30... Step: 2880... Loss: 1.1795... Val Loss: 1.2729\n",
            "Epoch: 21/30... Step: 2890... Loss: 1.1704... Val Loss: 1.2778\n",
            "Epoch: 21/30... Step: 2900... Loss: 1.1530... Val Loss: 1.2720\n",
            "Epoch: 21/30... Step: 2910... Loss: 1.1821... Val Loss: 1.2705\n",
            "Epoch: 22/30... Step: 2920... Loss: 1.2762... Val Loss: 1.2745\n",
            "Epoch: 22/30... Step: 2930... Loss: 1.1981... Val Loss: 1.2712\n",
            "Epoch: 22/30... Step: 2940... Loss: 1.1960... Val Loss: 1.2731\n",
            "Epoch: 22/30... Step: 2950... Loss: 1.2043... Val Loss: 1.2722\n",
            "Epoch: 22/30... Step: 2960... Loss: 1.1605... Val Loss: 1.2718\n",
            "Epoch: 22/30... Step: 2970... Loss: 1.1525... Val Loss: 1.2714\n",
            "Epoch: 22/30... Step: 2980... Loss: 1.1535... Val Loss: 1.2683\n",
            "Epoch: 22/30... Step: 2990... Loss: 1.1635... Val Loss: 1.2686\n",
            "Epoch: 22/30... Step: 3000... Loss: 1.1637... Val Loss: 1.2710\n",
            "Epoch: 22/30... Step: 3010... Loss: 1.1609... Val Loss: 1.2756\n",
            "Epoch: 22/30... Step: 3020... Loss: 1.1890... Val Loss: 1.2779\n",
            "Epoch: 22/30... Step: 3030... Loss: 1.1652... Val Loss: 1.2742\n",
            "Epoch: 22/30... Step: 3040... Loss: 1.1467... Val Loss: 1.2770\n",
            "Epoch: 22/30... Step: 3050... Loss: 1.1908... Val Loss: 1.2720\n",
            "Epoch: 23/30... Step: 3060... Loss: 1.1754... Val Loss: 1.2701\n",
            "Epoch: 23/30... Step: 3070... Loss: 1.1708... Val Loss: 1.2648\n",
            "Epoch: 23/30... Step: 3080... Loss: 1.1695... Val Loss: 1.2701\n",
            "Epoch: 23/30... Step: 3090... Loss: 1.1527... Val Loss: 1.2694\n",
            "Epoch: 23/30... Step: 3100... Loss: 1.1479... Val Loss: 1.2627\n",
            "Epoch: 23/30... Step: 3110... Loss: 1.1495... Val Loss: 1.2722\n",
            "Epoch: 23/30... Step: 3120... Loss: 1.1763... Val Loss: 1.2704\n",
            "Epoch: 23/30... Step: 3130... Loss: 1.1591... Val Loss: 1.2662\n",
            "Epoch: 23/30... Step: 3140... Loss: 1.1263... Val Loss: 1.2711\n",
            "Epoch: 23/30... Step: 3150... Loss: 1.1548... Val Loss: 1.2680\n",
            "Epoch: 23/30... Step: 3160... Loss: 1.1855... Val Loss: 1.2696\n",
            "Epoch: 23/30... Step: 3170... Loss: 1.1518... Val Loss: 1.2748\n",
            "Epoch: 23/30... Step: 3180... Loss: 1.1469... Val Loss: 1.2647\n",
            "Epoch: 23/30... Step: 3190... Loss: 1.1597... Val Loss: 1.2654\n",
            "Epoch: 24/30... Step: 3200... Loss: 1.1704... Val Loss: 1.2683\n",
            "Epoch: 24/30... Step: 3210... Loss: 1.1505... Val Loss: 1.2651\n",
            "Epoch: 24/30... Step: 3220... Loss: 1.1717... Val Loss: 1.2630\n",
            "Epoch: 24/30... Step: 3230... Loss: 1.1248... Val Loss: 1.2636\n",
            "Epoch: 24/30... Step: 3240... Loss: 1.1186... Val Loss: 1.2703\n",
            "Epoch: 24/30... Step: 3250... Loss: 1.1604... Val Loss: 1.2658\n",
            "Epoch: 24/30... Step: 3260... Loss: 1.1729... Val Loss: 1.2699\n",
            "Epoch: 24/30... Step: 3270... Loss: 1.1656... Val Loss: 1.2666\n",
            "Epoch: 24/30... Step: 3280... Loss: 1.1703... Val Loss: 1.2695\n",
            "Epoch: 24/30... Step: 3290... Loss: 1.1665... Val Loss: 1.2674\n",
            "Epoch: 24/30... Step: 3300... Loss: 1.1540... Val Loss: 1.2677\n",
            "Epoch: 24/30... Step: 3310... Loss: 1.1574... Val Loss: 1.2700\n",
            "Epoch: 24/30... Step: 3320... Loss: 1.1241... Val Loss: 1.2685\n",
            "Epoch: 24/30... Step: 3330... Loss: 1.1790... Val Loss: 1.2651\n",
            "Epoch: 25/30... Step: 3340... Loss: 1.1577... Val Loss: 1.2625\n",
            "Epoch: 25/30... Step: 3350... Loss: 1.1448... Val Loss: 1.2639\n",
            "Epoch: 25/30... Step: 3360... Loss: 1.1434... Val Loss: 1.2638\n",
            "Epoch: 25/30... Step: 3370... Loss: 1.1438... Val Loss: 1.2665\n",
            "Epoch: 25/30... Step: 3380... Loss: 1.1396... Val Loss: 1.2644\n",
            "Epoch: 25/30... Step: 3390... Loss: 1.1312... Val Loss: 1.2648\n",
            "Epoch: 25/30... Step: 3400... Loss: 1.1629... Val Loss: 1.2650\n",
            "Epoch: 25/30... Step: 3410... Loss: 1.1594... Val Loss: 1.2624\n",
            "Epoch: 25/30... Step: 3420... Loss: 1.1429... Val Loss: 1.2661\n",
            "Epoch: 25/30... Step: 3430... Loss: 1.1540... Val Loss: 1.2647\n",
            "Epoch: 25/30... Step: 3440... Loss: 1.1462... Val Loss: 1.2633\n",
            "Epoch: 25/30... Step: 3450... Loss: 1.1518... Val Loss: 1.2678\n",
            "Epoch: 25/30... Step: 3460... Loss: 1.1498... Val Loss: 1.2629\n",
            "Epoch: 25/30... Step: 3470... Loss: 1.1580... Val Loss: 1.2613\n",
            "Epoch: 26/30... Step: 3480... Loss: 1.1543... Val Loss: 1.2684\n",
            "Epoch: 26/30... Step: 3490... Loss: 1.1478... Val Loss: 1.2613\n",
            "Epoch: 26/30... Step: 3500... Loss: 1.1423... Val Loss: 1.2615\n",
            "Epoch: 26/30... Step: 3510... Loss: 1.1452... Val Loss: 1.2682\n",
            "Epoch: 26/30... Step: 3520... Loss: 1.1271... Val Loss: 1.2689\n",
            "Epoch: 26/30... Step: 3530... Loss: 1.1416... Val Loss: 1.2648\n",
            "Epoch: 26/30... Step: 3540... Loss: 1.1645... Val Loss: 1.2632\n",
            "Epoch: 26/30... Step: 3550... Loss: 1.1368... Val Loss: 1.2608\n",
            "Epoch: 26/30... Step: 3560... Loss: 1.1384... Val Loss: 1.2667\n",
            "Epoch: 26/30... Step: 3570... Loss: 1.1404... Val Loss: 1.2645\n",
            "Epoch: 26/30... Step: 3580... Loss: 1.1592... Val Loss: 1.2633\n",
            "Epoch: 26/30... Step: 3590... Loss: 1.1429... Val Loss: 1.2693\n",
            "Epoch: 26/30... Step: 3600... Loss: 1.1035... Val Loss: 1.2621\n",
            "Epoch: 26/30... Step: 3610... Loss: 1.1387... Val Loss: 1.2584\n",
            "Epoch: 27/30... Step: 3620... Loss: 1.1282... Val Loss: 1.2634\n",
            "Epoch: 27/30... Step: 3630... Loss: 1.1485... Val Loss: 1.2605\n",
            "Epoch: 27/30... Step: 3640... Loss: 1.1222... Val Loss: 1.2605\n",
            "Epoch: 27/30... Step: 3650... Loss: 1.1350... Val Loss: 1.2639\n",
            "Epoch: 27/30... Step: 3660... Loss: 1.1407... Val Loss: 1.2590\n",
            "Epoch: 27/30... Step: 3670... Loss: 1.1446... Val Loss: 1.2604\n",
            "Epoch: 27/30... Step: 3680... Loss: 1.1606... Val Loss: 1.2685\n",
            "Epoch: 27/30... Step: 3690... Loss: 1.1148... Val Loss: 1.2632\n",
            "Epoch: 27/30... Step: 3700... Loss: 1.1386... Val Loss: 1.2638\n",
            "Epoch: 27/30... Step: 3710... Loss: 1.1325... Val Loss: 1.2646\n",
            "Epoch: 27/30... Step: 3720... Loss: 1.1270... Val Loss: 1.2565\n",
            "Epoch: 27/30... Step: 3730... Loss: 1.1496... Val Loss: 1.2589\n",
            "Epoch: 27/30... Step: 3740... Loss: 1.1344... Val Loss: 1.2571\n",
            "Epoch: 27/30... Step: 3750... Loss: 1.1484... Val Loss: 1.2595\n",
            "Epoch: 28/30... Step: 3760... Loss: 1.1225... Val Loss: 1.2694\n",
            "Epoch: 28/30... Step: 3770... Loss: 1.1308... Val Loss: 1.2589\n",
            "Epoch: 28/30... Step: 3780... Loss: 1.1281... Val Loss: 1.2623\n",
            "Epoch: 28/30... Step: 3790... Loss: 1.1464... Val Loss: 1.2662\n",
            "Epoch: 28/30... Step: 3800... Loss: 1.1428... Val Loss: 1.2637\n",
            "Epoch: 28/30... Step: 3810... Loss: 1.1383... Val Loss: 1.2615\n",
            "Epoch: 28/30... Step: 3820... Loss: 1.1447... Val Loss: 1.2646\n",
            "Epoch: 28/30... Step: 3830... Loss: 1.1276... Val Loss: 1.2604\n",
            "Epoch: 28/30... Step: 3840... Loss: 1.1175... Val Loss: 1.2603\n",
            "Epoch: 28/30... Step: 3850... Loss: 1.1382... Val Loss: 1.2686\n",
            "Epoch: 28/30... Step: 3860... Loss: 1.1279... Val Loss: 1.2582\n",
            "Epoch: 28/30... Step: 3870... Loss: 1.1262... Val Loss: 1.2603\n",
            "Epoch: 28/30... Step: 3880... Loss: 1.1183... Val Loss: 1.2562\n",
            "Epoch: 28/30... Step: 3890... Loss: 1.1222... Val Loss: 1.2605\n",
            "Epoch: 29/30... Step: 3900... Loss: 1.1200... Val Loss: 1.2637\n",
            "Epoch: 29/30... Step: 3910... Loss: 1.1319... Val Loss: 1.2597\n",
            "Epoch: 29/30... Step: 3920... Loss: 1.1455... Val Loss: 1.2572\n",
            "Epoch: 29/30... Step: 3930... Loss: 1.1571... Val Loss: 1.2610\n",
            "Epoch: 29/30... Step: 3940... Loss: 1.1168... Val Loss: 1.2567\n",
            "Epoch: 29/30... Step: 3950... Loss: 1.1272... Val Loss: 1.2606\n",
            "Epoch: 29/30... Step: 3960... Loss: 1.1114... Val Loss: 1.2574\n",
            "Epoch: 29/30... Step: 3970... Loss: 1.1519... Val Loss: 1.2597\n",
            "Epoch: 29/30... Step: 3980... Loss: 1.1147... Val Loss: 1.2607\n",
            "Epoch: 29/30... Step: 3990... Loss: 1.1186... Val Loss: 1.2568\n",
            "Epoch: 29/30... Step: 4000... Loss: 1.1279... Val Loss: 1.2538\n",
            "Epoch: 29/30... Step: 4010... Loss: 1.1234... Val Loss: 1.2591\n",
            "Epoch: 29/30... Step: 4020... Loss: 1.1143... Val Loss: 1.2558\n",
            "Epoch: 29/30... Step: 4030... Loss: 1.1355... Val Loss: 1.2573\n",
            "Epoch: 30/30... Step: 4040... Loss: 1.1350... Val Loss: 1.2591\n",
            "Epoch: 30/30... Step: 4050... Loss: 1.1395... Val Loss: 1.2568\n",
            "Epoch: 30/30... Step: 4060... Loss: 1.1462... Val Loss: 1.2546\n",
            "Epoch: 30/30... Step: 4070... Loss: 1.1259... Val Loss: 1.2598\n",
            "Epoch: 30/30... Step: 4080... Loss: 1.1275... Val Loss: 1.2560\n",
            "Epoch: 30/30... Step: 4090... Loss: 1.1247... Val Loss: 1.2594\n",
            "Epoch: 30/30... Step: 4100... Loss: 1.1047... Val Loss: 1.2617\n",
            "Epoch: 30/30... Step: 4110... Loss: 1.1150... Val Loss: 1.2599\n",
            "Epoch: 30/30... Step: 4120... Loss: 1.1050... Val Loss: 1.2624\n",
            "Epoch: 30/30... Step: 4130... Loss: 1.1008... Val Loss: 1.2638\n",
            "Epoch: 30/30... Step: 4140... Loss: 1.1074... Val Loss: 1.2599\n",
            "Epoch: 30/30... Step: 4150... Loss: 1.1065... Val Loss: 1.2558\n",
            "Epoch: 30/30... Step: 4160... Loss: 1.1377... Val Loss: 1.2550\n",
            "Epoch: 30/30... Step: 4170... Loss: 1.1735... Val Loss: 1.2580\n"
          ],
          "name": "stdout"
        }
      ]
    },
    {
      "cell_type": "markdown",
      "metadata": {
        "id": "yazbsR5rg_Dl",
        "colab_type": "text"
      },
      "source": [
        "## Getting the best model\n",
        "\n",
        "To set your hyperparameters to get the best performance, you'll want to watch the training and validation losses. If your training loss is much lower than the validation loss, you're overfitting. Increase regularization (more dropout) or use a smaller network. If the training and validation losses are close, you're underfitting so you can increase the size of the network."
      ]
    },
    {
      "cell_type": "markdown",
      "metadata": {
        "id": "XSQ_dS4Xg_Dl",
        "colab_type": "text"
      },
      "source": [
        "## Hyperparameters\n",
        "\n",
        "Here are the hyperparameters for the network.\n",
        "\n",
        "In defining the model:\n",
        "* `n_hidden` - The number of units in the hidden layers.\n",
        "* `n_layers` - Number of hidden LSTM layers to use.\n",
        "\n",
        "We assume that dropout probability and learning rate will be kept at the default, in this example.\n",
        "\n",
        "And in training:\n",
        "* `batch_size` - Number of sequences running through the network in one pass.\n",
        "* `seq_length` - Number of characters in the sequence the network is trained on. Larger is better typically, the network will learn more long range dependencies. But it takes longer to train. 100 is typically a good number here.\n",
        "* `lr` - Learning rate for training\n",
        "\n",
        "Here's some good advice from Andrej Karpathy on training the network. I'm going to copy it in here for your benefit, but also link to [where it originally came from](https://github.com/karpathy/char-rnn#tips-and-tricks).\n",
        "\n",
        "> ## Tips and Tricks\n",
        "\n",
        ">### Monitoring Validation Loss vs. Training Loss\n",
        ">If you're somewhat new to Machine Learning or Neural Networks it can take a bit of expertise to get good models. The most important quantity to keep track of is the difference between your training loss (printed during training) and the validation loss (printed once in a while when the RNN is run on the validation data (by default every 1000 iterations)). In particular:\n",
        "\n",
        "> - If your training loss is much lower than validation loss then this means the network might be **overfitting**. Solutions to this are to decrease your network size, or to increase dropout. For example you could try dropout of 0.5 and so on.\n",
        "> - If your training/validation loss are about equal then your model is **underfitting**. Increase the size of your model (either number of layers or the raw number of neurons per layer)\n",
        "\n",
        "> ### Approximate number of parameters\n",
        "\n",
        "> The two most important parameters that control the model are `n_hidden` and `n_layers`. I would advise that you always use `n_layers` of either 2/3. The `n_hidden` can be adjusted based on how much data you have. The two important quantities to keep track of here are:\n",
        "\n",
        "> - The number of parameters in your model. This is printed when you start training.\n",
        "> - The size of your dataset. 1MB file is approximately 1 million characters.\n",
        "\n",
        ">These two should be about the same order of magnitude. It's a little tricky to tell. Here are some examples:\n",
        "\n",
        "> - I have a 100MB dataset and I'm using the default parameter settings (which currently print 150K parameters). My data size is significantly larger (100 mil >> 0.15 mil), so I expect to heavily underfit. I am thinking I can comfortably afford to make `n_hidden` larger.\n",
        "> - I have a 10MB dataset and running a 10 million parameter model. I'm slightly nervous and I'm carefully monitoring my validation loss. If it's larger than my training loss then I may want to try to increase dropout a bit and see if that helps the validation loss.\n",
        "\n",
        "> ### Best models strategy\n",
        "\n",
        ">The winning strategy to obtaining very good models (if you have the compute time) is to always err on making the network larger (as large as you're willing to wait for it to compute) and then try different dropout values (between 0,1). Whatever model has the best validation performance (the loss, written in the checkpoint filename, low is good) is the one you should use in the end.\n",
        "\n",
        ">It is very common in deep learning to run many different models with many different hyperparameter settings, and in the end take whatever checkpoint gave the best validation performance.\n",
        "\n",
        ">By the way, the size of your training and validation splits are also parameters. Make sure you have a decent amount of data in your validation set or otherwise the validation performance will be noisy and not very informative."
      ]
    },
    {
      "cell_type": "markdown",
      "metadata": {
        "id": "_qFRTRHzg_Dm",
        "colab_type": "text"
      },
      "source": [
        "## Checkpoint\n",
        "\n",
        "After training, we'll save the model so we can load it again later if we need too. Here I'm saving the parameters needed to create the same architecture, the hidden layer hyperparameters and the text characters."
      ]
    },
    {
      "cell_type": "code",
      "metadata": {
        "id": "3m-qPhC3g_Dm",
        "colab_type": "code",
        "colab": {}
      },
      "source": [
        "# change the name, for saving multiple files\n",
        "model_name = 'rnn_x_epoch.net'\n",
        "\n",
        "checkpoint = {'n_hidden': net.n_hidden,\n",
        "              'n_layers': net.n_layers,\n",
        "              'state_dict': net.state_dict(),\n",
        "              'tokens': net.chars}\n",
        "\n",
        "with open(model_name, 'wb') as f:\n",
        "    torch.save(checkpoint, f)"
      ],
      "execution_count": 36,
      "outputs": []
    },
    {
      "cell_type": "markdown",
      "metadata": {
        "id": "NDtI-YlHg_Dp",
        "colab_type": "text"
      },
      "source": [
        "---\n",
        "## Making Predictions\n",
        "\n",
        "Now that the model is trained, we'll want to sample from it and make predictions about next characters! To sample, we pass in a character and have the network predict the next character. Then we take that character, pass it back in, and get another predicted character. Just keep doing this and you'll generate a bunch of text!\n",
        "\n",
        "### A note on the `predict`  function\n",
        "\n",
        "The output of our RNN is from a fully-connected layer and it outputs a **distribution of next-character scores**.\n",
        "\n",
        "> To actually get the next character, we apply a softmax function, which gives us a *probability* distribution that we can then sample to predict the next character.\n",
        "\n",
        "### Top K sampling\n",
        "\n",
        "Our predictions come from a categorical probability distribution over all the possible characters. We can make the sample text and make it more reasonable to handle (with less variables) by only considering some $K$ most probable characters. This will prevent the network from giving us completely absurd characters while allowing it to introduce some noise and randomness into the sampled text. Read more about [topk, here](https://pytorch.org/docs/stable/torch.html#torch.topk).\n"
      ]
    },
    {
      "cell_type": "code",
      "metadata": {
        "id": "8Vhk-Gbgg_Dq",
        "colab_type": "code",
        "colab": {}
      },
      "source": [
        "def predict(net, char, h=None, top_k=None):\n",
        "        ''' Given a character, predict the next character.\n",
        "            Returns the predicted character and the hidden state.\n",
        "        '''\n",
        "        \n",
        "        # tensor inputs\n",
        "        x = np.array([[net.char2int[char]]])\n",
        "        x = one_hot_encode(x, len(net.chars))\n",
        "        inputs = torch.from_numpy(x)\n",
        "        \n",
        "        if(train_on_gpu):\n",
        "            inputs = inputs.cuda()\n",
        "        \n",
        "        # detach hidden state from history\n",
        "        h = tuple([each.data for each in h])\n",
        "        # get the output of the model\n",
        "        out, h = net(inputs, h)\n",
        "\n",
        "        # get the character probabilities\n",
        "        p = F.softmax(out, dim=1).data\n",
        "        if(train_on_gpu):\n",
        "            p = p.cpu() # move to cpu\n",
        "        \n",
        "        # get top characters\n",
        "        if top_k is None:\n",
        "            top_ch = np.arange(len(net.chars))\n",
        "        else:\n",
        "            p, top_ch = p.topk(top_k)\n",
        "            top_ch = top_ch.numpy().squeeze()\n",
        "        \n",
        "        # select the likely next character with some element of randomness\n",
        "        p = p.numpy().squeeze()\n",
        "        char = np.random.choice(top_ch, p=p/p.sum())\n",
        "        \n",
        "        # return the encoded value of the predicted char and the hidden state\n",
        "        return net.int2char[char], h"
      ],
      "execution_count": 37,
      "outputs": []
    },
    {
      "cell_type": "markdown",
      "metadata": {
        "id": "1xjzHWUeg_Dt",
        "colab_type": "text"
      },
      "source": [
        "### Priming and generating text \n",
        "\n",
        "Typically you'll want to prime the network so you can build up a hidden state. Otherwise the network will start out generating characters at random. In general the first bunch of characters will be a little rough since it hasn't built up a long history of characters to predict from."
      ]
    },
    {
      "cell_type": "code",
      "metadata": {
        "id": "1vWEXrGkg_Du",
        "colab_type": "code",
        "colab": {}
      },
      "source": [
        "def sample(net, size, prime='The', top_k=None):\n",
        "        \n",
        "    if(train_on_gpu):\n",
        "        net.cuda()\n",
        "    else:\n",
        "        net.cpu()\n",
        "    \n",
        "    net.eval() # eval mode\n",
        "    \n",
        "    # First off, run through the prime characters\n",
        "    chars = [ch for ch in prime]\n",
        "    h = net.init_hidden(1)\n",
        "    for ch in prime:\n",
        "        char, h = predict(net, ch, h, top_k=top_k)\n",
        "\n",
        "    chars.append(char)\n",
        "    \n",
        "    # Now pass in the previous character and get a new one\n",
        "    for ii in range(size):\n",
        "        char, h = predict(net, chars[-1], h, top_k=top_k)\n",
        "        chars.append(char)\n",
        "\n",
        "    return ''.join(chars)"
      ],
      "execution_count": 38,
      "outputs": []
    },
    {
      "cell_type": "code",
      "metadata": {
        "id": "IzrvXi0Mg_Dx",
        "colab_type": "code",
        "colab": {
          "base_uri": "https://localhost:8080/",
          "height": 386
        },
        "outputId": "85f8a251-5f72-4072-d979-a7c7c9286e72"
      },
      "source": [
        "print(sample(net, 1000, prime='Good', top_k=5))"
      ],
      "execution_count": 43,
      "outputs": [
        {
          "output_type": "stream",
          "text": [
            "Good smile. And\n",
            "he was seeing, she had better have a made off, to be seemed before her\n",
            "for at once. But that in the close town of the cold marsh had been\n",
            "a peace.\n",
            "\n",
            "\"I've been merchant,\" seed Konstantin Levin. \"How so my son,\" he asked,\n",
            "looking at Vronsky, always far as he was.\n",
            "\n",
            "\"What is there,\" she said, and he considered a career.\n",
            "\n",
            "This country smiled... She was so as sometimes all the fingers that to tell\n",
            "him that some intense were serene and treating an instant. This\n",
            "weere to hope that she was so said and the priest trattenting the first\n",
            "position of a strong brow, trealing at the same again that he would have\n",
            "said the princess to tell him. The match when she had not to be dreaded to\n",
            "her and he was the princess of the family, but he had been dispositing this and\n",
            "work in his finger and alone, to be thinkers, the first thing was the\n",
            "marriage with the service, and as she had broken on a simply salvation.\n",
            "\n",
            "Stepan Arkadyevitch, sitting down by something, she felt asserted behind\n",
            "the sening the\n"
          ],
          "name": "stdout"
        }
      ]
    },
    {
      "cell_type": "markdown",
      "metadata": {
        "id": "1oeD-uKog_D1",
        "colab_type": "text"
      },
      "source": [
        "## Loading a checkpoint"
      ]
    },
    {
      "cell_type": "code",
      "metadata": {
        "id": "cE6uh9xcg_D2",
        "colab_type": "code",
        "colab": {
          "base_uri": "https://localhost:8080/",
          "height": 34
        },
        "outputId": "b0f165ca-f941-41db-93ec-bcb1ba901832"
      },
      "source": [
        "# Here we have loaded in a model that trained over 20 epochs `rnn_20_epoch.net`\n",
        "with open('rnn_x_epoch.net', 'rb') as f:\n",
        "    checkpoint = torch.load(f)\n",
        "    \n",
        "loaded = CharRNN(checkpoint['tokens'], n_hidden=checkpoint['n_hidden'], n_layers=checkpoint['n_layers'])\n",
        "loaded.load_state_dict(checkpoint['state_dict'])"
      ],
      "execution_count": 44,
      "outputs": [
        {
          "output_type": "execute_result",
          "data": {
            "text/plain": [
              "<All keys matched successfully>"
            ]
          },
          "metadata": {
            "tags": []
          },
          "execution_count": 44
        }
      ]
    },
    {
      "cell_type": "code",
      "metadata": {
        "id": "KQ-XYlPVg_D5",
        "colab_type": "code",
        "colab": {
          "base_uri": "https://localhost:8080/",
          "height": 721
        },
        "outputId": "41408d0e-4e82-4700-c57b-a2e22d4d7a14"
      },
      "source": [
        "# Sample using a loaded model\n",
        "print(sample(loaded, 2000, top_k=5, prime=\"And Levin said\"))"
      ],
      "execution_count": 45,
      "outputs": [
        {
          "output_type": "stream",
          "text": [
            "And Levin said:\n",
            "\"And I've busine to blame,\" Levin said with an anmistraction.\n",
            "\n",
            "\"What!...\"\n",
            "\n",
            "And she was all the way of some terrace in spite of the conversation. She\n",
            "stopped, and had not filled up. She had a long whele in his minute\n",
            "as she had been done in the same again, as though to go into the subject,\n",
            "were still standing to him, and he would have been desperated that he\n",
            "had not to be the carriage on a little change. He had to begin all\n",
            "anything. He had no division of them to be sule, and so he was staying to\n",
            "him, that he came to think it all on her brother he forced them as it were\n",
            "to be something. She would not help thinking of a continual painting that she\n",
            "was sitting in the porter.\n",
            "\n",
            "\"Ah! the position? Take me, I'm not said alone?\" asked Anna, that she\n",
            "heard some sonts and his chance in his sing to a sense of that side of\n",
            "his brother that he was at once to be the capital talk, but he shade the\n",
            "princess and taking it too the suck hope, a step, to a still most action.\n",
            "She would have been taken out as his calm. There were constraint the\n",
            "conceiving of the seamons of a comand things when his brother so\n",
            "that they were told her than alrasted a secretary of the strange fill\n",
            "stream as all this cheater in the same tense of comman still at\n",
            "that something, but in why he his forese of steps said in the service that\n",
            "it was a single face in the fild word about the corridor, who had never\n",
            "tended the princess, and the music smiled.\n",
            "\n",
            "\"Alexey Alexandrovitch! I should have to say already?\"\n",
            "\n",
            "\"Why so? Who don't you see you, by the meeting will be. You didn't\n",
            "know whether I have been divorced in a little official cares. In what I was\n",
            "in talk, and there was a stream, and to do it,\" he thought.\n",
            "\n",
            "\"What do you talk about you, that it's not married you sitting, and we've been\n",
            "so came from my sof to him.\"\n",
            "\n",
            "Stepan Arkadyevitch went on looking at her. They seated signed, and he\n",
            "finished. A cereait deprosime time the conversation was asking him.\n",
            "\n",
            "\"Well, what do you see how Ivan Darinticill the commands in m\n"
          ],
          "name": "stdout"
        }
      ]
    },
    {
      "cell_type": "code",
      "metadata": {
        "id": "wIZGLuntg_D8",
        "colab_type": "code",
        "colab": {}
      },
      "source": [
        ""
      ],
      "execution_count": null,
      "outputs": []
    }
  ]
}